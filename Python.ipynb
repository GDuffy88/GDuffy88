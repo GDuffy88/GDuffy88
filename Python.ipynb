{
  "nbformat": 4,
  "nbformat_minor": 0,
  "metadata": {
    "colab": {
      "provenance": [],
      "mount_file_id": "1ghApjHWzAC2J2C6I0PATFQ4mkWLK8pJI",
      "authorship_tag": "ABX9TyPgJbqQZP5mP7Lbbj0v3v7E",
      "include_colab_link": true
    },
    "kernelspec": {
      "name": "python3",
      "display_name": "Python 3"
    },
    "language_info": {
      "name": "python"
    }
  },
  "cells": [
    {
      "cell_type": "markdown",
      "metadata": {
        "id": "view-in-github",
        "colab_type": "text"
      },
      "source": [
        "<a href=\"https://colab.research.google.com/github/GDuffy88/GDuffy88/blob/main/Python.ipynb\" target=\"_parent\"><img src=\"https://colab.research.google.com/assets/colab-badge.svg\" alt=\"Open In Colab\"/></a>"
      ]
    },
    {
      "cell_type": "markdown",
      "source": [
        "# New section"
      ],
      "metadata": {
        "id": "in6q7-jokn_I"
      }
    },
    {
      "cell_type": "markdown",
      "source": [
        "this is a text area that can be used to explain what's happening or get an insight or explanation"
      ],
      "metadata": {
        "id": "XTTYTX4TmIGO"
      }
    },
    {
      "cell_type": "markdown",
      "source": [],
      "metadata": {
        "id": "2LLdyMGXlNxm"
      }
    },
    {
      "cell_type": "markdown",
      "source": [],
      "metadata": {
        "id": "dRgEWJYvl552"
      }
    },
    {
      "cell_type": "markdown",
      "source": [
        "# New section"
      ],
      "metadata": {
        "id": "sMb9D5_dkrTR"
      }
    },
    {
      "cell_type": "code",
      "source": [
        "# This is a comment\n",
        "# Comments can be useful to explain code and are considering good programming practice\n",
        "# Comments are ignored wherever code is executed\n",
        "# print() is used to send data to be displayed to user\n",
        "# To print some text we place it inside quotes as below\n",
        "print(\"hello world !\")"
      ],
      "metadata": {
        "colab": {
          "base_uri": "https://localhost:8080/"
        },
        "id": "_13DbLAXml6t",
        "outputId": "5e19c992-9556-414a-ff9b-7550aea46495"
      },
      "execution_count": null,
      "outputs": [
        {
          "output_type": "stream",
          "name": "stdout",
          "text": [
            "hello world !\n"
          ]
        }
      ]
    },
    {
      "cell_type": "code",
      "source": [
        "# Variable names are not allowed spaces and must not be any of\n",
        "# the keywords that are used when programming in python.\n",
        "\n",
        "#There are different types of variables that we can use and we will\n",
        "#look at this later.\n",
        "\n",
        "#However for now we will just setup variables as below to assign a\n",
        "#text variable the text has to be inside the quotes. A number can be on it's own\n",
        "\n",
        "name= \"violet\"\n",
        "age=21\n",
        "\n",
        "print(\"Hello there \", name, \"your age is \", age)\n",
        "\n"
      ],
      "metadata": {
        "colab": {
          "base_uri": "https://localhost:8080/"
        },
        "id": "u7AY2b7T9zEp",
        "outputId": "61f1568d-55dd-46bb-c00b-af54b36d894b"
      },
      "execution_count": null,
      "outputs": [
        {
          "output_type": "stream",
          "name": "stdout",
          "text": [
            "Hello there  violet your age is  21\n"
          ]
        }
      ]
    },
    {
      "cell_type": "code",
      "source": [
        "#Here are some common data types examples we can use\n",
        "# The term used is casting\n",
        "# Note that if you cast some text as a number you will not get results you expected\n",
        "# If a variable is numeric we can use it in calculations\n",
        "#str  - makes the variable text\n",
        "name = str(\"Violet\")\n",
        "# int  - makes the variable a whole number\n",
        "age = int(21)\n",
        "# float - makes the variable a number with a decimal point\n",
        "wage = float(149.99)\n",
        "# boolean - this takes on a value of True or False\n",
        "YesNo=bool(True)\n",
        "\n",
        "print(\"Your name is \", name)\n",
        "print(\"Your age is\", age)\n",
        "print(\"Your wage is £\", wage)\n",
        "print(YesNo)\n",
        "\n"
      ],
      "metadata": {
        "colab": {
          "base_uri": "https://localhost:8080/"
        },
        "id": "VMIBlQoOAP8F",
        "outputId": "a3783333-f159-4185-88f6-056f0d7c4dc1"
      },
      "execution_count": null,
      "outputs": [
        {
          "output_type": "stream",
          "name": "stdout",
          "text": [
            "Your name is  Violet\n",
            "Your age is 21\n",
            "Your wage is £ 149.99\n",
            "True\n"
          ]
        }
      ]
    },
    {
      "cell_type": "code",
      "source": [
        "#This example manipulates a list of types of data\n",
        "NamesList=[\"Zeus\", \"Hera\", \"123\", 245,762,9]\n",
        "# we can print the whole list\n",
        "print (NamesList)\n",
        "#We can print a single variable within the list\n",
        "print(NamesList[0]) # remember count starts at 0\n",
        "print(NamesList[5])\n"
      ],
      "metadata": {
        "colab": {
          "base_uri": "https://localhost:8080/"
        },
        "id": "cFhuTwnGEvy4",
        "outputId": "90d909df-9573-4db2-91df-6ded223ff49c"
      },
      "execution_count": null,
      "outputs": [
        {
          "output_type": "stream",
          "name": "stdout",
          "text": [
            "['Zeus', 'Hera', '123', 245, 762, 9]\n",
            "Zeus\n",
            "9\n"
          ]
        }
      ]
    },
    {
      "cell_type": "code",
      "source": [
        "#This example manipulates a list of types of data\n",
        "NamesList=[\"Zeus\", \"Hera\", \"123\", 245,762,9]\n",
        "# we can print the whole list\n",
        "print (NamesList)\n",
        "#We can print a single variable within the list\n",
        "print(NamesList[0]) # remember count starts at 0\n",
        "print(NamesList[5])\n",
        "\n",
        "# We will use the list we created above in this section\n",
        "print(NamesList)\n",
        "#We can change the value in the list\n",
        "NamesList[0]=\"Jupiter\"\n",
        "NamesList[4]=\"hello\"\n",
        "print(NamesList)\n"
      ],
      "metadata": {
        "colab": {
          "base_uri": "https://localhost:8080/"
        },
        "id": "TBhIpRBxGIIm",
        "outputId": "03ac223c-b446-46fb-e0e8-7700f96a5777"
      },
      "execution_count": null,
      "outputs": [
        {
          "output_type": "stream",
          "name": "stdout",
          "text": [
            "['Zeus', 'Hera', '123', 245, 762, 9]\n",
            "Zeus\n",
            "9\n",
            "['Zeus', 'Hera', '123', 245, 762, 9]\n",
            "['Jupiter', 'Hera', '123', 245, 'hello', 9]\n"
          ]
        }
      ]
    },
    {
      "cell_type": "code",
      "source": [
        "#This example manipulates a list of types of data\n",
        "NamesList=[\"Zeus\", \"Hera\", \"123\", 245,762,9]\n",
        "# we can print the whole list\n",
        "print (NamesList)\n",
        "#We can print a single variable within the list\n",
        "print(NamesList[0]) # remember count starts at 0\n",
        "print(NamesList[5])\n",
        "\n",
        "\n",
        "# Here we will add a value on at the end of the list\n",
        "print(NamesList)\n",
        "NamesList.append (\"Mercury\")\n",
        "print(NamesList)\n"
      ],
      "metadata": {
        "colab": {
          "base_uri": "https://localhost:8080/"
        },
        "id": "poqHBPd-JVNZ",
        "outputId": "7977f8c0-ffac-4193-8afe-1d9f454dc9b4"
      },
      "execution_count": null,
      "outputs": [
        {
          "output_type": "stream",
          "name": "stdout",
          "text": [
            "['Zeus', 'Hera', '123', 245, 762, 9]\n",
            "Zeus\n",
            "9\n",
            "['Zeus', 'Hera', '123', 245, 762, 9]\n",
            "['Zeus', 'Hera', '123', 245, 762, 9, 'Mercury']\n"
          ]
        }
      ]
    },
    {
      "cell_type": "code",
      "source": [
        "print(NamesList)\n",
        "# lens(NamesList) will return the length of the list\n",
        "print(len(NamesList))\n",
        "# insert new value into position 2\n",
        "NamesList.insert(2, \"Cupid\")\n",
        "print(NamesList)\n",
        "print(len(NamesList))"
      ],
      "metadata": {
        "colab": {
          "base_uri": "https://localhost:8080/"
        },
        "id": "0_uD8OxEL21r",
        "outputId": "3f3464ba-4c74-4818-af52-72613c07a5ce"
      },
      "execution_count": null,
      "outputs": [
        {
          "output_type": "stream",
          "name": "stdout",
          "text": [
            "['Zeus', 'Hera', '123', 245, 762, 9, 'Mercury']\n",
            "7\n",
            "['Zeus', 'Hera', 'Cupid', '123', 245, 762, 9, 'Mercury']\n",
            "8\n"
          ]
        }
      ]
    },
    {
      "cell_type": "code",
      "source": [
        "# This section looks at using areas of the list without changing it\n",
        "print(NamesList)\n",
        "#we can printout a small part of the list if we specify start and finish\n",
        "print(NamesList [2:4])\n",
        "#we can also create a newlist from a samll selected part of the nameslist\n",
        "newlist=NamesList[2:4]\n",
        "print(newlist)\n",
        "# we can also use a start OR end value alone\n",
        "#below we are printing 3 values from NamesList from start\n",
        "print(NamesList[:3])\n",
        "#below we are printing 3 values from NamesList from end\n",
        "print(NamesList[3:])\n"
      ],
      "metadata": {
        "colab": {
          "base_uri": "https://localhost:8080/"
        },
        "id": "3Ff7hvV6M5VS",
        "outputId": "cf3411e5-d7d6-44a1-d0fb-9ab833af3a9e"
      },
      "execution_count": null,
      "outputs": [
        {
          "output_type": "stream",
          "name": "stdout",
          "text": [
            "['Zeus', 'Hera', 'Cupid', '123', 245, 762, 9, 'Mercury']\n",
            "['Cupid', '123']\n",
            "['Cupid', '123']\n",
            "['Zeus', 'Hera', 'Cupid']\n",
            "['123', 245, 762, 9, 'Mercury']\n"
          ]
        }
      ]
    },
    {
      "cell_type": "code",
      "source": [
        "# Dictionaries are a type of list that has a key that stores a value\n",
        "# So here the dictionary is called Books\n",
        "books = {\n",
        "    \"name\":\"Harry Potter and the Philosophers Stone\", #name is one of the keys\n",
        "    \"author\":\"J.K. Rowling\",\n",
        "    \"year\":1997\n",
        "}\n",
        "print(books) #\n",
        "print (books [\"author\"])"
      ],
      "metadata": {
        "colab": {
          "base_uri": "https://localhost:8080/"
        },
        "id": "ygOoFs0YRPPY",
        "outputId": "9b7e61d0-9501-448d-9e14-774ef79a03c1"
      },
      "execution_count": null,
      "outputs": [
        {
          "output_type": "stream",
          "name": "stdout",
          "text": [
            "{'name': 'Harry Potter and the Philosophers Stone', 'author': 'J.K. Rowling', 'year': 1997}\n",
            "J.K. Rowling\n"
          ]
        }
      ]
    },
    {
      "cell_type": "code",
      "source": [
        "books ={\n",
        "    \"name\":\"Harry Potter and the Philosophers Stone\", #name is one of the keys\n",
        "    \"author\":\"J.K. Rowling\",\n",
        "    \"year\":1997 ,\n",
        "    \"type\": [\"paperback\", \"hardcover\", \"kindle\"]\n",
        "}\n",
        "print(books.keys ()) #\n",
        "print (books [\"type\"])\n"
      ],
      "metadata": {
        "colab": {
          "base_uri": "https://localhost:8080/"
        },
        "id": "gKNUBkhuVLAR",
        "outputId": "8583751a-ec5d-4738-a384-74036f0230be"
      },
      "execution_count": null,
      "outputs": [
        {
          "output_type": "stream",
          "name": "stdout",
          "text": [
            "dict_keys(['name', 'author', 'year', 'type'])\n",
            "['paperback', 'hardcover', 'kindle']\n"
          ]
        }
      ]
    },
    {
      "cell_type": "code",
      "source": [
        "books[\"cost\"]=12.99\n",
        "print(books.keys())\n",
        "print(books)"
      ],
      "metadata": {
        "colab": {
          "base_uri": "https://localhost:8080/"
        },
        "id": "T8fGDMyTWE_U",
        "outputId": "b7e3c382-e1fb-43dc-da52-c456347239a8"
      },
      "execution_count": null,
      "outputs": [
        {
          "output_type": "stream",
          "name": "stdout",
          "text": [
            "dict_keys(['name', 'author', 'year', 'type', 'cost'])\n",
            "{'name': 'Harry Potter and the Philosophers Stone', 'author': 'J.K. Rowling', 'year': 1997, 'type': ['paperback', 'hardcover', 'kindle'], 'cost': 12.99}\n"
          ]
        }
      ]
    },
    {
      "cell_type": "code",
      "source": [
        "Drive = {\n",
        "    \"distance\": [420, 380, 390],\n",
        "    \"speed\": [45, 50, 55]\n",
        "}\n",
        "print(Drive)\n",
        "print(Drive [\"distance\"])\n",
        "print(Drive [\"speed\"])"
      ],
      "metadata": {
        "colab": {
          "base_uri": "https://localhost:8080/"
        },
        "id": "zG_K2SnnZ9gJ",
        "outputId": "8dab7cbd-98c7-406f-9ac0-7131e151ac82"
      },
      "execution_count": null,
      "outputs": [
        {
          "output_type": "stream",
          "name": "stdout",
          "text": [
            "{'distance': [420, 380, 390], 'speed': [45, 50, 55]}\n",
            "[420, 380, 390]\n",
            "[45, 50, 55]\n"
          ]
        }
      ]
    },
    {
      "cell_type": "markdown",
      "source": [
        "Pandas # New section"
      ],
      "metadata": {
        "id": "djCBovssPnSF"
      }
    },
    {
      "cell_type": "code",
      "source": [
        "# the dictionary below shows 2 keys, each of the keys has vales associated with them\n",
        "# so we can build up a dataset that stores multiple values\n",
        "#As it has keys that store lists of data its known as a dataframe\n",
        "import pandas as pd\n"
      ],
      "metadata": {
        "id": "DduXHY5Hawnk"
      },
      "execution_count": null,
      "outputs": []
    },
    {
      "cell_type": "code",
      "source": [
        "import pandas as pd\n",
        "\n",
        "Foods = {\"name\" : [\"apple\", \"pear\", \"grapes\", \"oranges\", ]}"
      ],
      "metadata": {
        "id": "ARLeyju-6qGk"
      },
      "execution_count": null,
      "outputs": []
    },
    {
      "cell_type": "code",
      "source": [
        "import pandas as pd # using Pandas as pd\n",
        "data = pd.read_csv('/content/sample_data/Football.csv')\n",
        "print(data.head ())\n",
        "print(data.tail ())\n"
      ],
      "metadata": {
        "colab": {
          "base_uri": "https://localhost:8080/",
          "height": 371
        },
        "id": "6pVAXpeZT4dZ",
        "outputId": "2e462d1b-c059-4810-b216-89ae52787b26"
      },
      "execution_count": null,
      "outputs": [
        {
          "output_type": "error",
          "ename": "FileNotFoundError",
          "evalue": "[Errno 2] No such file or directory: '/content/sample_data/Football.csv'",
          "traceback": [
            "\u001b[0;31m---------------------------------------------------------------------------\u001b[0m",
            "\u001b[0;31mFileNotFoundError\u001b[0m                         Traceback (most recent call last)",
            "\u001b[0;32m<ipython-input-33-ca67cc726583>\u001b[0m in \u001b[0;36m<cell line: 2>\u001b[0;34m()\u001b[0m\n\u001b[1;32m      1\u001b[0m \u001b[0;32mimport\u001b[0m \u001b[0mpandas\u001b[0m \u001b[0;32mas\u001b[0m \u001b[0mpd\u001b[0m \u001b[0;31m# using Pandas as pd\u001b[0m\u001b[0;34m\u001b[0m\u001b[0;34m\u001b[0m\u001b[0m\n\u001b[0;32m----> 2\u001b[0;31m \u001b[0mdata\u001b[0m \u001b[0;34m=\u001b[0m \u001b[0mpd\u001b[0m\u001b[0;34m.\u001b[0m\u001b[0mread_csv\u001b[0m\u001b[0;34m(\u001b[0m\u001b[0;34m'/content/sample_data/Football.csv'\u001b[0m\u001b[0;34m)\u001b[0m\u001b[0;34m\u001b[0m\u001b[0;34m\u001b[0m\u001b[0m\n\u001b[0m\u001b[1;32m      3\u001b[0m \u001b[0mprint\u001b[0m\u001b[0;34m(\u001b[0m\u001b[0mdata\u001b[0m\u001b[0;34m.\u001b[0m\u001b[0mhead\u001b[0m \u001b[0;34m(\u001b[0m\u001b[0;34m)\u001b[0m\u001b[0;34m)\u001b[0m\u001b[0;34m\u001b[0m\u001b[0;34m\u001b[0m\u001b[0m\n\u001b[1;32m      4\u001b[0m \u001b[0mprint\u001b[0m\u001b[0;34m(\u001b[0m\u001b[0mdata\u001b[0m\u001b[0;34m.\u001b[0m\u001b[0mtail\u001b[0m \u001b[0;34m(\u001b[0m\u001b[0;34m)\u001b[0m\u001b[0;34m)\u001b[0m\u001b[0;34m\u001b[0m\u001b[0;34m\u001b[0m\u001b[0m\n",
            "\u001b[0;32m/usr/local/lib/python3.10/dist-packages/pandas/io/parsers/readers.py\u001b[0m in \u001b[0;36mread_csv\u001b[0;34m(filepath_or_buffer, sep, delimiter, header, names, index_col, usecols, dtype, engine, converters, true_values, false_values, skipinitialspace, skiprows, skipfooter, nrows, na_values, keep_default_na, na_filter, verbose, skip_blank_lines, parse_dates, infer_datetime_format, keep_date_col, date_parser, date_format, dayfirst, cache_dates, iterator, chunksize, compression, thousands, decimal, lineterminator, quotechar, quoting, doublequote, escapechar, comment, encoding, encoding_errors, dialect, on_bad_lines, delim_whitespace, low_memory, memory_map, float_precision, storage_options, dtype_backend)\u001b[0m\n\u001b[1;32m   1024\u001b[0m     \u001b[0mkwds\u001b[0m\u001b[0;34m.\u001b[0m\u001b[0mupdate\u001b[0m\u001b[0;34m(\u001b[0m\u001b[0mkwds_defaults\u001b[0m\u001b[0;34m)\u001b[0m\u001b[0;34m\u001b[0m\u001b[0;34m\u001b[0m\u001b[0m\n\u001b[1;32m   1025\u001b[0m \u001b[0;34m\u001b[0m\u001b[0m\n\u001b[0;32m-> 1026\u001b[0;31m     \u001b[0;32mreturn\u001b[0m \u001b[0m_read\u001b[0m\u001b[0;34m(\u001b[0m\u001b[0mfilepath_or_buffer\u001b[0m\u001b[0;34m,\u001b[0m \u001b[0mkwds\u001b[0m\u001b[0;34m)\u001b[0m\u001b[0;34m\u001b[0m\u001b[0;34m\u001b[0m\u001b[0m\n\u001b[0m\u001b[1;32m   1027\u001b[0m \u001b[0;34m\u001b[0m\u001b[0m\n\u001b[1;32m   1028\u001b[0m \u001b[0;34m\u001b[0m\u001b[0m\n",
            "\u001b[0;32m/usr/local/lib/python3.10/dist-packages/pandas/io/parsers/readers.py\u001b[0m in \u001b[0;36m_read\u001b[0;34m(filepath_or_buffer, kwds)\u001b[0m\n\u001b[1;32m    618\u001b[0m \u001b[0;34m\u001b[0m\u001b[0m\n\u001b[1;32m    619\u001b[0m     \u001b[0;31m# Create the parser.\u001b[0m\u001b[0;34m\u001b[0m\u001b[0;34m\u001b[0m\u001b[0m\n\u001b[0;32m--> 620\u001b[0;31m     \u001b[0mparser\u001b[0m \u001b[0;34m=\u001b[0m \u001b[0mTextFileReader\u001b[0m\u001b[0;34m(\u001b[0m\u001b[0mfilepath_or_buffer\u001b[0m\u001b[0;34m,\u001b[0m \u001b[0;34m**\u001b[0m\u001b[0mkwds\u001b[0m\u001b[0;34m)\u001b[0m\u001b[0;34m\u001b[0m\u001b[0;34m\u001b[0m\u001b[0m\n\u001b[0m\u001b[1;32m    621\u001b[0m \u001b[0;34m\u001b[0m\u001b[0m\n\u001b[1;32m    622\u001b[0m     \u001b[0;32mif\u001b[0m \u001b[0mchunksize\u001b[0m \u001b[0;32mor\u001b[0m \u001b[0miterator\u001b[0m\u001b[0;34m:\u001b[0m\u001b[0;34m\u001b[0m\u001b[0;34m\u001b[0m\u001b[0m\n",
            "\u001b[0;32m/usr/local/lib/python3.10/dist-packages/pandas/io/parsers/readers.py\u001b[0m in \u001b[0;36m__init__\u001b[0;34m(self, f, engine, **kwds)\u001b[0m\n\u001b[1;32m   1618\u001b[0m \u001b[0;34m\u001b[0m\u001b[0m\n\u001b[1;32m   1619\u001b[0m         \u001b[0mself\u001b[0m\u001b[0;34m.\u001b[0m\u001b[0mhandles\u001b[0m\u001b[0;34m:\u001b[0m \u001b[0mIOHandles\u001b[0m \u001b[0;34m|\u001b[0m \u001b[0;32mNone\u001b[0m \u001b[0;34m=\u001b[0m \u001b[0;32mNone\u001b[0m\u001b[0;34m\u001b[0m\u001b[0;34m\u001b[0m\u001b[0m\n\u001b[0;32m-> 1620\u001b[0;31m         \u001b[0mself\u001b[0m\u001b[0;34m.\u001b[0m\u001b[0m_engine\u001b[0m \u001b[0;34m=\u001b[0m \u001b[0mself\u001b[0m\u001b[0;34m.\u001b[0m\u001b[0m_make_engine\u001b[0m\u001b[0;34m(\u001b[0m\u001b[0mf\u001b[0m\u001b[0;34m,\u001b[0m \u001b[0mself\u001b[0m\u001b[0;34m.\u001b[0m\u001b[0mengine\u001b[0m\u001b[0;34m)\u001b[0m\u001b[0;34m\u001b[0m\u001b[0;34m\u001b[0m\u001b[0m\n\u001b[0m\u001b[1;32m   1621\u001b[0m \u001b[0;34m\u001b[0m\u001b[0m\n\u001b[1;32m   1622\u001b[0m     \u001b[0;32mdef\u001b[0m \u001b[0mclose\u001b[0m\u001b[0;34m(\u001b[0m\u001b[0mself\u001b[0m\u001b[0;34m)\u001b[0m \u001b[0;34m->\u001b[0m \u001b[0;32mNone\u001b[0m\u001b[0;34m:\u001b[0m\u001b[0;34m\u001b[0m\u001b[0;34m\u001b[0m\u001b[0m\n",
            "\u001b[0;32m/usr/local/lib/python3.10/dist-packages/pandas/io/parsers/readers.py\u001b[0m in \u001b[0;36m_make_engine\u001b[0;34m(self, f, engine)\u001b[0m\n\u001b[1;32m   1878\u001b[0m                 \u001b[0;32mif\u001b[0m \u001b[0;34m\"b\"\u001b[0m \u001b[0;32mnot\u001b[0m \u001b[0;32min\u001b[0m \u001b[0mmode\u001b[0m\u001b[0;34m:\u001b[0m\u001b[0;34m\u001b[0m\u001b[0;34m\u001b[0m\u001b[0m\n\u001b[1;32m   1879\u001b[0m                     \u001b[0mmode\u001b[0m \u001b[0;34m+=\u001b[0m \u001b[0;34m\"b\"\u001b[0m\u001b[0;34m\u001b[0m\u001b[0;34m\u001b[0m\u001b[0m\n\u001b[0;32m-> 1880\u001b[0;31m             self.handles = get_handle(\n\u001b[0m\u001b[1;32m   1881\u001b[0m                 \u001b[0mf\u001b[0m\u001b[0;34m,\u001b[0m\u001b[0;34m\u001b[0m\u001b[0;34m\u001b[0m\u001b[0m\n\u001b[1;32m   1882\u001b[0m                 \u001b[0mmode\u001b[0m\u001b[0;34m,\u001b[0m\u001b[0;34m\u001b[0m\u001b[0;34m\u001b[0m\u001b[0m\n",
            "\u001b[0;32m/usr/local/lib/python3.10/dist-packages/pandas/io/common.py\u001b[0m in \u001b[0;36mget_handle\u001b[0;34m(path_or_buf, mode, encoding, compression, memory_map, is_text, errors, storage_options)\u001b[0m\n\u001b[1;32m    871\u001b[0m         \u001b[0;32mif\u001b[0m \u001b[0mioargs\u001b[0m\u001b[0;34m.\u001b[0m\u001b[0mencoding\u001b[0m \u001b[0;32mand\u001b[0m \u001b[0;34m\"b\"\u001b[0m \u001b[0;32mnot\u001b[0m \u001b[0;32min\u001b[0m \u001b[0mioargs\u001b[0m\u001b[0;34m.\u001b[0m\u001b[0mmode\u001b[0m\u001b[0;34m:\u001b[0m\u001b[0;34m\u001b[0m\u001b[0;34m\u001b[0m\u001b[0m\n\u001b[1;32m    872\u001b[0m             \u001b[0;31m# Encoding\u001b[0m\u001b[0;34m\u001b[0m\u001b[0;34m\u001b[0m\u001b[0m\n\u001b[0;32m--> 873\u001b[0;31m             handle = open(\n\u001b[0m\u001b[1;32m    874\u001b[0m                 \u001b[0mhandle\u001b[0m\u001b[0;34m,\u001b[0m\u001b[0;34m\u001b[0m\u001b[0;34m\u001b[0m\u001b[0m\n\u001b[1;32m    875\u001b[0m                 \u001b[0mioargs\u001b[0m\u001b[0;34m.\u001b[0m\u001b[0mmode\u001b[0m\u001b[0;34m,\u001b[0m\u001b[0;34m\u001b[0m\u001b[0;34m\u001b[0m\u001b[0m\n",
            "\u001b[0;31mFileNotFoundError\u001b[0m: [Errno 2] No such file or directory: '/content/sample_data/Football.csv'"
          ]
        }
      ]
    },
    {
      "cell_type": "markdown",
      "source": [
        "Statistics: Mean, Median and Mode Program # New section"
      ],
      "metadata": {
        "id": "tTfBnX7bJ2sF"
      }
    },
    {
      "cell_type": "code",
      "source": [
        "import pandas as pd\n",
        "data = []\n",
        "\n",
        "ds = ps.Series(data)\n",
        "\n",
        "print(f\"Mean : {ds.mean()}\")\n",
        "print(f\"Median : {ds.median()}\")\n",
        "print(f\"Mode : {ds.mode()}\")\n",
        "print(f\"Standard Deviation : {ds.std()}\")\n",
        "print(f\"Variance : {ds.var()}\")\n",
        "print (f\"frequency\" {ds.value_counts()})\n",
        "#"
      ],
      "metadata": {
        "id": "-rdfkeuqJ8eK"
      },
      "execution_count": null,
      "outputs": []
    },
    {
      "cell_type": "code",
      "source": [
        "import pandas as pd\n",
        "import matplotlib.pyplot as plt\n",
        "\n",
        "df=pd.read_csv(\"/content/sample_data/california_housing_test.csv\")\n",
        "\n",
        "print(df.info())\n",
        "\n",
        "df.corr()\n",
        "\n",
        "x=df[\"median_income\"]\n",
        "y=df[\"median_house_value\"]\n",
        "\n",
        "plt.scatter(x,y)\n",
        "plt.show()\n",
        "\n"
      ],
      "metadata": {
        "id": "MlxOBN4PUS-H"
      },
      "execution_count": null,
      "outputs": []
    },
    {
      "cell_type": "code",
      "source": [
        "import pandas as pd\n",
        "import matplotlib.pyplot as plt\n",
        "\n",
        "df=pd.read_csv(\"/content/tables.csv\")\n",
        "print(df.info())\n",
        "df.corr()\n",
        "x=df[\"num\"]\n",
        "y=df[\"table\"]\n",
        "plt.plot(x,y)\n",
        "\n"
      ],
      "metadata": {
        "id": "C9sG_relWODE"
      },
      "execution_count": null,
      "outputs": []
    },
    {
      "cell_type": "code",
      "source": [
        "import pandas as pd\n",
        "import matplotlib.pyplot as plt\n",
        "\n",
        "df=pd.read_csv(\"/content/sample_data/california_housing_test.csv\")\n",
        "print(df.info())\n",
        "\n",
        "plt.bar([\"total_bedrooms\", \"total_rooms\", \"households\",\"median_house_value\"], df[[\"total_bedrooms\", \"total_rooms\", \"households\",\"median_house_value\"]].mean())\n"
      ],
      "metadata": {
        "colab": {
          "base_uri": "https://localhost:8080/",
          "height": 758
        },
        "id": "mtQ7F7c8g2ba",
        "outputId": "6bd5f605-4f4d-4838-b3a7-50ebabf068ed"
      },
      "execution_count": null,
      "outputs": [
        {
          "output_type": "stream",
          "name": "stdout",
          "text": [
            "<class 'pandas.core.frame.DataFrame'>\n",
            "RangeIndex: 3000 entries, 0 to 2999\n",
            "Data columns (total 9 columns):\n",
            " #   Column              Non-Null Count  Dtype  \n",
            "---  ------              --------------  -----  \n",
            " 0   longitude           3000 non-null   float64\n",
            " 1   latitude            3000 non-null   float64\n",
            " 2   housing_median_age  3000 non-null   float64\n",
            " 3   total_rooms         3000 non-null   float64\n",
            " 4   total_bedrooms      3000 non-null   float64\n",
            " 5   population          3000 non-null   float64\n",
            " 6   households          3000 non-null   float64\n",
            " 7   median_income       3000 non-null   float64\n",
            " 8   median_house_value  3000 non-null   float64\n",
            "dtypes: float64(9)\n",
            "memory usage: 211.1 KB\n",
            "None\n"
          ]
        },
        {
          "output_type": "execute_result",
          "data": {
            "text/plain": [
              "<BarContainer object of 4 artists>"
            ]
          },
          "metadata": {},
          "execution_count": 35
        },
        {
          "output_type": "display_data",
          "data": {
            "text/plain": [
              "<Figure size 640x480 with 1 Axes>"
            ],
            "image/png": "[encoded data removed]"
          },
          "metadata": {}
        }
      ]
    },
    {
      "cell_type": "code",
      "source": [
        "import pandas as pd\n",
        "import matplotlib.pyplot as plt\n",
        "\n",
        "df=pd.read_csv(\"/content/sample_data/california_housing_test.csv\")\n",
        "\n",
        "print(df.info)\n",
        "\n",
        "df[\"total_non_bedrooms\"]=df[\"total_rooms\"]-df[\"total_bedrooms\"]\n",
        "\n",
        "plt.pie(df.loc[0, ['total_bedrooms', 'total_non_bedrooms']])"
      ],
      "metadata": {
        "colab": {
          "base_uri": "https://localhost:8080/",
          "height": 971
        },
        "id": "-ezGFq98kGcz",
        "outputId": "c7f7e1d1-2dce-4bb7-8ad3-0e7ffb084e1a"
      },
      "execution_count": null,
      "outputs": [
        {
          "output_type": "stream",
          "name": "stdout",
          "text": [
            "<bound method DataFrame.info of       longitude  latitude  housing_median_age  total_rooms  total_bedrooms  \\\n",
            "0       -122.05     37.37                27.0       3885.0           661.0   \n",
            "1       -118.30     34.26                43.0       1510.0           310.0   \n",
            "2       -117.81     33.78                27.0       3589.0           507.0   \n",
            "3       -118.36     33.82                28.0         67.0            15.0   \n",
            "4       -119.67     36.33                19.0       1241.0           244.0   \n",
            "...         ...       ...                 ...          ...             ...   \n",
            "2995    -119.86     34.42                23.0       1450.0           642.0   \n",
            "2996    -118.14     34.06                27.0       5257.0          1082.0   \n",
            "2997    -119.70     36.30                10.0        956.0           201.0   \n",
            "2998    -117.12     34.10                40.0         96.0            14.0   \n",
            "2999    -119.63     34.42                42.0       1765.0           263.0   \n",
            "\n",
            "      population  households  median_income  median_house_value  \n",
            "0         1537.0       606.0         6.6085            344700.0  \n",
            "1          809.0       277.0         3.5990            176500.0  \n",
            "2         1484.0       495.0         5.7934            270500.0  \n",
            "3           49.0        11.0         6.1359            330000.0  \n",
            "4          850.0       237.0         2.9375             81700.0  \n",
            "...          ...         ...            ...                 ...  \n",
            "2995      1258.0       607.0         1.1790            225000.0  \n",
            "2996      3496.0      1036.0         3.3906            237200.0  \n",
            "2997       693.0       220.0         2.2895             62000.0  \n",
            "2998        46.0        14.0         3.2708            162500.0  \n",
            "2999       753.0       260.0         8.5608            500001.0  \n",
            "\n",
            "[3000 rows x 9 columns]>\n"
          ]
        },
        {
          "output_type": "execute_result",
          "data": {
            "text/plain": [
              "([<matplotlib.patches.Wedge at 0x7a294c4a02e0>,\n",
              "  <matplotlib.patches.Wedge at 0x7a294c4a01f0>],\n",
              " [Text(0.9465671099712545, 0.5603665820877146, ''),\n",
              "  Text(-0.9465671362039064, -0.5603665377757093, '')])"
            ]
          },
          "metadata": {},
          "execution_count": 4
        },
        {
          "output_type": "display_data",
          "data": {
            "text/plain": [
              "<Figure size 640x480 with 1 Axes>"
            ],
            "image/png": "[encoded data removed]"
          },
          "metadata": {}
        }
      ]
    },
    {
      "cell_type": "code",
      "source": [
        "\n",
        "import pandas as pd\n",
        "import matplotlib.pyplot as plt\n",
        "\n",
        "df=pd.read_csv(\"/content/sample_data/california_housing_test.csv\")\n",
        "\n",
        "\n",
        "plt.hist(df[\"total_rooms\"])"
      ],
      "metadata": {
        "colab": {
          "base_uri": "https://localhost:8080/",
          "height": 539
        },
        "id": "i8U5nZvfqbms",
        "outputId": "8d6af19a-3203-493d-88b8-74794746dbb9"
      },
      "execution_count": null,
      "outputs": [
        {
          "output_type": "execute_result",
          "data": {
            "text/plain": [
              "(array([2.205e+03, 6.500e+02, 9.400e+01, 2.900e+01, 1.000e+01, 6.000e+00,\n",
              "        1.000e+00, 3.000e+00, 0.000e+00, 2.000e+00]),\n",
              " array([6.00000e+00, 3.05040e+03, 6.09480e+03, 9.13920e+03, 1.21836e+04,\n",
              "        1.52280e+04, 1.82724e+04, 2.13168e+04, 2.43612e+04, 2.74056e+04,\n",
              "        3.04500e+04]),\n",
              " <BarContainer object of 10 artists>)"
            ]
          },
          "metadata": {},
          "execution_count": 40
        },
        {
          "output_type": "display_data",
          "data": {
            "text/plain": [
              "<Figure size 640x480 with 1 Axes>"
            ],
            "image/png": "[encoded data removed]"
          },
          "metadata": {}
        }
      ]
    },
    {
      "cell_type": "code",
      "source": [
        "import pandas as pd\n",
        "import matplotlib.pyplot as plt\n",
        "\n",
        "df=pd.read_csv(\"/content/sample_data/california_housing_test.csv\")\n",
        "\n",
        "y = df[\"latitude\"]\n",
        "x = df[\"longitude\"]\n",
        "plt.hexbin (x,y)"
      ],
      "metadata": {
        "colab": {
          "base_uri": "https://localhost:8080/",
          "height": 448
        },
        "id": "O5FoAeOJp0RR",
        "outputId": "c40b2615-c4c0-494a-a721-a6f79aa7708b"
      },
      "execution_count": null,
      "outputs": [
        {
          "output_type": "execute_result",
          "data": {
            "text/plain": [
              "<matplotlib.collections.PolyCollection at 0x7a294beaf3a0>"
            ]
          },
          "metadata": {},
          "execution_count": 7
        },
        {
          "output_type": "display_data",
          "data": {
            "text/plain": [
              "<Figure size 640x480 with 1 Axes>"
            ],
            "image/png": "[encoded data removed]"
          },
          "metadata": {}
        }
      ]
    },
    {
      "cell_type": "code",
      "source": [
        "\n",
        "import pandas as pd\n",
        "import matplotlib.pyplot as plt\n",
        "\n",
        "df=pd.read_csv(\"/content/sample_data/california_housing_test.csv\")\n",
        "\n",
        "\n",
        "x = df[\"median_income\"]\n",
        "\n",
        "plt.violinplot(x)"
      ],
      "metadata": {
        "colab": {
          "base_uri": "https://localhost:8080/",
          "height": 503
        },
        "id": "scz6ofPRqo94",
        "outputId": "70b6b3de-86d8-4012-9304-cdb82294a3cd"
      },
      "execution_count": null,
      "outputs": [
        {
          "output_type": "execute_result",
          "data": {
            "text/plain": [
              "{'bodies': [<matplotlib.collections.PolyCollection at 0x7a294bfa2d40>],\n",
              " 'cmaxes': <matplotlib.collections.LineCollection at 0x7a294bfa0a60>,\n",
              " 'cmins': <matplotlib.collections.LineCollection at 0x7a294bfa0be0>,\n",
              " 'cbars': <matplotlib.collections.LineCollection at 0x7a294bfa1270>}"
            ]
          },
          "metadata": {},
          "execution_count": 8
        },
        {
          "output_type": "display_data",
          "data": {
            "text/plain": [
              "<Figure size 640x480 with 1 Axes>"
            ],
            "image/png": "[encoded data removed]"
          },
          "metadata": {}
        }
      ]
    },
    {
      "cell_type": "code",
      "source": [
        "import pandas as pd\n",
        "import matplotlib.pyplot as plt\n",
        "\n",
        "df=pd.read_csv(\"/content/sample_data/california_housing_test.csv\")\n",
        "x=df[\"total_rooms\"]\n",
        "y=df[\"total_bedrooms\"]\n",
        "\n",
        "plt.style.use('seaborn'-vo_8)\n",
        "plt.scatter(x,y)\n",
        "\n",
        "\n"
      ],
      "metadata": {
        "colab": {
          "base_uri": "https://localhost:8080/",
          "height": 219
        },
        "id": "JaX1GiCqrL9y",
        "outputId": "86c2237a-a88b-4385-b61e-fa72de543fc0"
      },
      "execution_count": null,
      "outputs": [
        {
          "output_type": "error",
          "ename": "NameError",
          "evalue": "name 'vo_8' is not defined",
          "traceback": [
            "\u001b[0;31m---------------------------------------------------------------------------\u001b[0m",
            "\u001b[0;31mNameError\u001b[0m                                 Traceback (most recent call last)",
            "\u001b[0;32m<ipython-input-43-7809e6808988>\u001b[0m in \u001b[0;36m<cell line: 8>\u001b[0;34m()\u001b[0m\n\u001b[1;32m      6\u001b[0m \u001b[0my\u001b[0m\u001b[0;34m=\u001b[0m\u001b[0mdf\u001b[0m\u001b[0;34m[\u001b[0m\u001b[0;34m\"total_bedrooms\"\u001b[0m\u001b[0;34m]\u001b[0m\u001b[0;34m\u001b[0m\u001b[0;34m\u001b[0m\u001b[0m\n\u001b[1;32m      7\u001b[0m \u001b[0;34m\u001b[0m\u001b[0m\n\u001b[0;32m----> 8\u001b[0;31m \u001b[0mplt\u001b[0m\u001b[0;34m.\u001b[0m\u001b[0mstyle\u001b[0m\u001b[0;34m.\u001b[0m\u001b[0muse\u001b[0m\u001b[0;34m(\u001b[0m\u001b[0;34m'seaborn'\u001b[0m\u001b[0;34m-\u001b[0m\u001b[0mvo_8\u001b[0m\u001b[0;34m)\u001b[0m\u001b[0;34m\u001b[0m\u001b[0;34m\u001b[0m\u001b[0m\n\u001b[0m\u001b[1;32m      9\u001b[0m \u001b[0mplt\u001b[0m\u001b[0;34m.\u001b[0m\u001b[0mscatter\u001b[0m\u001b[0;34m(\u001b[0m\u001b[0mx\u001b[0m\u001b[0;34m,\u001b[0m\u001b[0my\u001b[0m\u001b[0;34m)\u001b[0m\u001b[0;34m\u001b[0m\u001b[0;34m\u001b[0m\u001b[0m\n\u001b[1;32m     10\u001b[0m \u001b[0;34m\u001b[0m\u001b[0m\n",
            "\u001b[0;31mNameError\u001b[0m: name 'vo_8' is not defined"
          ]
        }
      ]
    },
    {
      "cell_type": "markdown",
      "source": [
        "Student performance"
      ],
      "metadata": {
        "id": "bTzXg8lGAma6"
      }
    },
    {
      "cell_type": "code",
      "source": [
        "import pandas as pd\n",
        "import matplotlib.pyplot as plt\n",
        "\n",
        "df=pd.read_csv(\"/content/student_performance.csv\")\n",
        "\n",
        "# 1.DATA OVERVIEW\n",
        "#Use info to understand structure and data types\n",
        "df.info()\n",
        "\n",
        "#Display the first and last five rows of the dataset\n",
        "print(df.head())\n",
        "print(df.tail())\n",
        "\n",
        "#just saying\n",
        "\n",
        "\n"
      ],
      "metadata": {
        "colab": {
          "base_uri": "https://localhost:8080/"
        },
        "id": "TSrXR7jtAeAE",
        "outputId": "679c33cf-a290-4368-c68a-8d45028b79f5"
      },
      "execution_count": null,
      "outputs": [
        {
          "output_type": "stream",
          "name": "stdout",
          "text": [
            "<class 'pandas.core.frame.DataFrame'>\n",
            "RangeIndex: 1000 entries, 0 to 999\n",
            "Data columns (total 8 columns):\n",
            " #   Column                       Non-Null Count  Dtype \n",
            "---  ------                       --------------  ----- \n",
            " 0   gender                       1000 non-null   object\n",
            " 1   race/ethnicity               1000 non-null   object\n",
            " 2   parental level of education  1000 non-null   object\n",
            " 3   lunch                        1000 non-null   object\n",
            " 4   test preparation course      1000 non-null   object\n",
            " 5   math score                   1000 non-null   int64 \n",
            " 6   reading score                1000 non-null   int64 \n",
            " 7   writing score                1000 non-null   int64 \n",
            "dtypes: int64(3), object(5)\n",
            "memory usage: 62.6+ KB\n",
            "   gender race/ethnicity parental level of education         lunch  \\\n",
            "0  female        group B           bachelor's degree      standard   \n",
            "1  female        group C                some college      standard   \n",
            "2  female        group B             master's degree      standard   \n",
            "3    male        group A          associate's degree  free/reduced   \n",
            "4    male        group C                some college      standard   \n",
            "\n",
            "  test preparation course  math score  reading score  writing score  \n",
            "0                    none          72             72             74  \n",
            "1               completed          69             90             88  \n",
            "2                    none          90             95             93  \n",
            "3                    none          47             57             44  \n",
            "4                    none          76             78             75  \n",
            "     gender race/ethnicity parental level of education         lunch  \\\n",
            "995  female        group E             master's degree      standard   \n",
            "996    male        group C                 high school  free/reduced   \n",
            "997  female        group C                 high school  free/reduced   \n",
            "998  female        group D                some college      standard   \n",
            "999  female        group D                some college  free/reduced   \n",
            "\n",
            "    test preparation course  math score  reading score  writing score  \n",
            "995               completed          88             99             95  \n",
            "996                    none          62             55             55  \n",
            "997               completed          59             71             65  \n",
            "998               completed          68             78             77  \n",
            "999                    none          77             86             86  \n"
          ]
        }
      ]
    },
    {
      "cell_type": "code",
      "source": [
        "# 3.CALCULATE BASIC STATISTICS\n",
        "  #Calculate the mean, median and mode for the numeric coloumns (math score, reading score, writing score)\n",
        "\n",
        "print(\"Mean: \\n\", df[['math score','reading score', 'writing score']].mean())\n",
        "print(\"Mode: \\n\",df[['math score','reading score', 'writing score']].mode())\n",
        "print(\"Median: \\n\",df[['math score','reading score', 'writing score']].median())\n",
        "\n",
        "\n"
      ],
      "metadata": {
        "colab": {
          "base_uri": "https://localhost:8080/"
        },
        "id": "-rXSlfJSJ9yl",
        "outputId": "36ab080e-30e0-40bf-b9e1-0db881dd384d"
      },
      "execution_count": null,
      "outputs": [
        {
          "output_type": "stream",
          "name": "stdout",
          "text": [
            "Mean: \n",
            " math score       66.089\n",
            "reading score    69.169\n",
            "writing score    68.054\n",
            "dtype: float64\n",
            "Mode: \n",
            "    math score  reading score  writing score\n",
            "0          65             72             74\n",
            "Median: \n",
            " math score       66.0\n",
            "reading score    70.0\n",
            "writing score    69.0\n",
            "dtype: float64\n"
          ]
        }
      ]
    },
    {
      "cell_type": "code",
      "source": [
        "# 4.HANDLE MISSING DATA\n",
        "  #use a dropna() to remove rows where essential data is missing (e.g.drop rows where the Age coloumn is NaN.)\n",
        "df.dropna(subset=[], inplace=NaN)\n",
        "print(df)\n",
        "\n",
        "  #Use fillna() to fill issing data in a specific (e.g. replace missing values in numeric coloumns with their mean)\n",
        "  df.fillna(df.mean(), inplace=False)\n",
        "  print(df)\n",
        "\n",
        "  # Convert coloumns to numeric to ensure all numerical data is properly formatted (e.g. convert strings to numbers)\n",
        "\n",
        "# 5.DATA CLEANING\n",
        "  # Drop a coloumn (e.g. lunch) that you deem unnecessary for the analysis\n",
        "  # Convert the math score column to a numeric type (it should already be numeric, this is for practice).\n",
        "\n",
        "# 6. CORRELATIONS\n",
        "      #compute the correlation matrix to analyse relationships between math score, reading score and writing score."
      ],
      "metadata": {
        "colab": {
          "base_uri": "https://localhost:8080/",
          "height": 110
        },
        "id": "EG75H27eOJZo",
        "outputId": "96a66c13-99b6-4ed1-d773-20a0fd218590"
      },
      "execution_count": null,
      "outputs": [
        {
          "output_type": "error",
          "ename": "IndentationError",
          "evalue": "unexpected indent (<ipython-input-25-c59852c89e3d>, line 7)",
          "traceback": [
            "\u001b[0;36m  File \u001b[0;32m\"<ipython-input-25-c59852c89e3d>\"\u001b[0;36m, line \u001b[0;32m7\u001b[0m\n\u001b[0;31m    df.fillna(df.mean(), inplace=False)\u001b[0m\n\u001b[0m    ^\u001b[0m\n\u001b[0;31mIndentationError\u001b[0m\u001b[0;31m:\u001b[0m unexpected indent\n"
          ]
        }
      ]
    }
  ]
}